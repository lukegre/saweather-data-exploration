{
 "cells": [
  {
   "cell_type": "code",
   "execution_count": 1,
   "metadata": {},
   "outputs": [
    {
     "name": "stdout",
     "output_type": "stream",
     "text": [
      "\u001b[2mResolved \u001b[1m153 packages\u001b[0m \u001b[2min 6ms\u001b[0m\u001b[0m\n",
      "\u001b[2mAudited \u001b[1m150 packages\u001b[0m \u001b[2min 0.52ms\u001b[0m\u001b[0m\n"
     ]
    }
   ],
   "source": [
    "!uv sync\n",
    "%load_ext autoreload\n",
    "%autoreload 2"
   ]
  },
  {
   "cell_type": "code",
   "execution_count": 2,
   "metadata": {},
   "outputs": [],
   "source": [
    "import pathlib\n",
    "import pandas as pd\n",
    "import matplotlib.pyplot as plt\n",
    "import data_exploration.weather_stations as ws\n",
    "import data_exploration.viz as viz"
   ]
  },
  {
   "cell_type": "code",
   "execution_count": 3,
   "metadata": {},
   "outputs": [
    {
     "name": "stderr",
     "output_type": "stream",
     "text": [
      "\u001b[32m2025-03-12 12:45:09.477\u001b[0m | \u001b[34m\u001b[1mDEBUG   \u001b[0m | \u001b[36mdata_exploration.weather_stations\u001b[0m:\u001b[36mread_parquet\u001b[0m:\u001b[36m16\u001b[0m - \u001b[34m\u001b[1mSkipping file - too few data ../data/station_data_parquet/SFU3786-1-1.parquet\u001b[0m\n",
      "\u001b[32m2025-03-12 12:45:09.545\u001b[0m | \u001b[34m\u001b[1mDEBUG   \u001b[0m | \u001b[36mdata_exploration.weather_stations\u001b[0m:\u001b[36mread_parquet\u001b[0m:\u001b[36m16\u001b[0m - \u001b[34m\u001b[1mSkipping file - too few data ../data/station_data_parquet/SFU1523-4-1.parquet\u001b[0m\n",
      "\u001b[32m2025-03-12 12:45:09.561\u001b[0m | \u001b[34m\u001b[1mDEBUG   \u001b[0m | \u001b[36mdata_exploration.weather_stations\u001b[0m:\u001b[36mread_parquet\u001b[0m:\u001b[36m16\u001b[0m - \u001b[34m\u001b[1mSkipping file - too few data ../data/station_data_parquet/SFU371-A3-1.parquet\u001b[0m\n",
      "\u001b[32m2025-03-12 12:45:09.576\u001b[0m | \u001b[34m\u001b[1mDEBUG   \u001b[0m | \u001b[36mdata_exploration.weather_stations\u001b[0m:\u001b[36mread_parquet\u001b[0m:\u001b[36m16\u001b[0m - \u001b[34m\u001b[1mSkipping file - too few data ../data/station_data_parquet/SFM00068490.parquet\u001b[0m\n",
      "\u001b[32m2025-03-12 12:45:09.590\u001b[0m | \u001b[34m\u001b[1mDEBUG   \u001b[0m | \u001b[36mdata_exploration.weather_stations\u001b[0m:\u001b[36mread_parquet\u001b[0m:\u001b[36m16\u001b[0m - \u001b[34m\u001b[1mSkipping file - too few data ../data/station_data_parquet/SFU184-A3-1.parquet\u001b[0m\n",
      "\u001b[32m2025-03-12 12:45:09.603\u001b[0m | \u001b[34m\u001b[1mDEBUG   \u001b[0m | \u001b[36mdata_exploration.weather_stations\u001b[0m:\u001b[36mread_parquet\u001b[0m:\u001b[36m16\u001b[0m - \u001b[34m\u001b[1mSkipping file - too few data ../data/station_data_parquet/SFM00068848.parquet\u001b[0m\n",
      "\u001b[32m2025-03-12 12:45:09.816\u001b[0m | \u001b[1mINFO    \u001b[0m | \u001b[36mdata_exploration.weather_stations\u001b[0m:\u001b[36mread_parquet\u001b[0m:\u001b[36m13\u001b[0m - \u001b[1mReading in ../data/station_data_parquet/SFI0000FALW.parquet\u001b[0m\n",
      "\u001b[32m2025-03-12 12:45:10.613\u001b[0m | \u001b[34m\u001b[1mDEBUG   \u001b[0m | \u001b[36mdata_exploration.weather_stations\u001b[0m:\u001b[36mread_parquet\u001b[0m:\u001b[36m16\u001b[0m - \u001b[34m\u001b[1mSkipping file - too few data ../data/station_data_parquet/SFA00684300.parquet\u001b[0m\n",
      "\u001b[32m2025-03-12 12:45:10.629\u001b[0m | \u001b[34m\u001b[1mDEBUG   \u001b[0m | \u001b[36mdata_exploration.weather_stations\u001b[0m:\u001b[36mread_parquet\u001b[0m:\u001b[36m16\u001b[0m - \u001b[34m\u001b[1mSkipping file - too few data ../data/station_data_parquet/SFM00068376.parquet\u001b[0m\n",
      "\u001b[32m2025-03-12 12:45:10.644\u001b[0m | \u001b[34m\u001b[1mDEBUG   \u001b[0m | \u001b[36mdata_exploration.weather_stations\u001b[0m:\u001b[36mread_parquet\u001b[0m:\u001b[36m16\u001b[0m - \u001b[34m\u001b[1mSkipping file - too few data ../data/station_data_parquet/SFU722-A9-1.parquet\u001b[0m\n",
      "\u001b[32m2025-03-12 12:45:10.737\u001b[0m | \u001b[1mINFO    \u001b[0m | \u001b[36mdata_exploration.weather_stations\u001b[0m:\u001b[36mread_parquet\u001b[0m:\u001b[36m13\u001b[0m - \u001b[1mReading in ../data/station_data_parquet/SFM00068523.parquet\u001b[0m\n",
      "\u001b[32m2025-03-12 12:45:10.994\u001b[0m | \u001b[34m\u001b[1mDEBUG   \u001b[0m | \u001b[36mdata_exploration.weather_stations\u001b[0m:\u001b[36mread_parquet\u001b[0m:\u001b[36m16\u001b[0m - \u001b[34m\u001b[1mSkipping file - too few data ../data/station_data_parquet/SFM00068999.parquet\u001b[0m\n",
      "\u001b[32m2025-03-12 12:45:11.033\u001b[0m | \u001b[34m\u001b[1mDEBUG   \u001b[0m | \u001b[36mdata_exploration.weather_stations\u001b[0m:\u001b[36mread_parquet\u001b[0m:\u001b[36m16\u001b[0m - \u001b[34m\u001b[1mSkipping file - too few data ../data/station_data_parquet/SFU8631-X-1.parquet\u001b[0m\n",
      "\u001b[32m2025-03-12 12:45:11.053\u001b[0m | \u001b[34m\u001b[1mDEBUG   \u001b[0m | \u001b[36mdata_exploration.weather_stations\u001b[0m:\u001b[36mread_parquet\u001b[0m:\u001b[36m16\u001b[0m - \u001b[34m\u001b[1mSkipping file - too few data ../data/station_data_parquet/SFU1517-8-1.parquet\u001b[0m\n",
      "\u001b[32m2025-03-12 12:45:11.160\u001b[0m | \u001b[1mINFO    \u001b[0m | \u001b[36mdata_exploration.weather_stations\u001b[0m:\u001b[36mread_parquet\u001b[0m:\u001b[36m13\u001b[0m - \u001b[1mReading in ../data/station_data_parquet/SFM00068916.parquet\u001b[0m\n",
      "\u001b[32m2025-03-12 12:45:11.578\u001b[0m | \u001b[34m\u001b[1mDEBUG   \u001b[0m | \u001b[36mdata_exploration.weather_stations\u001b[0m:\u001b[36mread_parquet\u001b[0m:\u001b[36m16\u001b[0m - \u001b[34m\u001b[1mSkipping file - too few data ../data/station_data_parquet/SFU068488-1.parquet\u001b[0m\n",
      "\u001b[32m2025-03-12 12:45:11.596\u001b[0m | \u001b[34m\u001b[1mDEBUG   \u001b[0m | \u001b[36mdata_exploration.weather_stations\u001b[0m:\u001b[36mread_parquet\u001b[0m:\u001b[36m16\u001b[0m - \u001b[34m\u001b[1mSkipping file - too few data ../data/station_data_parquet/SFU8689-4-1.parquet\u001b[0m\n",
      "\u001b[32m2025-03-12 12:45:11.705\u001b[0m | \u001b[1mINFO    \u001b[0m | \u001b[36mdata_exploration.weather_stations\u001b[0m:\u001b[36mread_parquet\u001b[0m:\u001b[36m13\u001b[0m - \u001b[1mReading in ../data/station_data_parquet/SFI0000FAHS.parquet\u001b[0m\n",
      "\u001b[32m2025-03-12 12:45:12.124\u001b[0m | \u001b[34m\u001b[1mDEBUG   \u001b[0m | \u001b[36mdata_exploration.weather_stations\u001b[0m:\u001b[36mread_parquet\u001b[0m:\u001b[36m16\u001b[0m - \u001b[34m\u001b[1mSkipping file - too few data ../data/station_data_parquet/SFU3561-3-1.parquet\u001b[0m\n",
      "\u001b[32m2025-03-12 12:45:12.177\u001b[0m | \u001b[1mINFO    \u001b[0m | \u001b[36mdata_exploration.weather_stations\u001b[0m:\u001b[36mread_parquet\u001b[0m:\u001b[36m13\u001b[0m - \u001b[1mReading in ../data/station_data_parquet/SFM00068577.parquet\u001b[0m\n",
      "\u001b[32m2025-03-12 12:45:12.450\u001b[0m | \u001b[1mINFO    \u001b[0m | \u001b[36mdata_exploration.weather_stations\u001b[0m:\u001b[36mread_parquet\u001b[0m:\u001b[36m13\u001b[0m - \u001b[1mReading in ../data/station_data_parquet/SFM00068322.parquet\u001b[0m\n",
      "\u001b[32m2025-03-12 12:45:12.790\u001b[0m | \u001b[34m\u001b[1mDEBUG   \u001b[0m | \u001b[36mdata_exploration.weather_stations\u001b[0m:\u001b[36mread_parquet\u001b[0m:\u001b[36m16\u001b[0m - \u001b[34m\u001b[1mSkipping file - too few data ../data/station_data_parquet/SFU4197-0-1.parquet\u001b[0m\n",
      "\u001b[32m2025-03-12 12:45:12.803\u001b[0m | \u001b[34m\u001b[1mDEBUG   \u001b[0m | \u001b[36mdata_exploration.weather_stations\u001b[0m:\u001b[36mread_parquet\u001b[0m:\u001b[36m16\u001b[0m - \u001b[34m\u001b[1mSkipping file - too few data ../data/station_data_parquet/SFU068368-1.parquet\u001b[0m\n",
      "\u001b[32m2025-03-12 12:45:12.816\u001b[0m | \u001b[34m\u001b[1mDEBUG   \u001b[0m | \u001b[36mdata_exploration.weather_stations\u001b[0m:\u001b[36mread_parquet\u001b[0m:\u001b[36m16\u001b[0m - \u001b[34m\u001b[1mSkipping file - too few data ../data/station_data_parquet/SFM00068929.parquet\u001b[0m\n",
      "\u001b[32m2025-03-12 12:45:12.843\u001b[0m | \u001b[34m\u001b[1mDEBUG   \u001b[0m | \u001b[36mdata_exploration.weather_stations\u001b[0m:\u001b[36mread_parquet\u001b[0m:\u001b[36m16\u001b[0m - \u001b[34m\u001b[1mSkipping file - too few data ../data/station_data_parquet/SFU0808-8-1.parquet\u001b[0m\n",
      "\u001b[32m2025-03-12 12:45:12.881\u001b[0m | \u001b[1mINFO    \u001b[0m | \u001b[36mdata_exploration.weather_stations\u001b[0m:\u001b[36mread_parquet\u001b[0m:\u001b[36m13\u001b[0m - \u001b[1mReading in ../data/station_data_parquet/SFM00068841.parquet\u001b[0m\n",
      "\u001b[32m2025-03-12 12:45:12.980\u001b[0m | \u001b[34m\u001b[1mDEBUG   \u001b[0m | \u001b[36mdata_exploration.weather_stations\u001b[0m:\u001b[36mread_parquet\u001b[0m:\u001b[36m16\u001b[0m - \u001b[34m\u001b[1mSkipping file - too few data ../data/station_data_parquet/SFU4636-8-1.parquet\u001b[0m\n",
      "\u001b[32m2025-03-12 12:45:12.993\u001b[0m | \u001b[34m\u001b[1mDEBUG   \u001b[0m | \u001b[36mdata_exploration.weather_stations\u001b[0m:\u001b[36mread_parquet\u001b[0m:\u001b[36m16\u001b[0m - \u001b[34m\u001b[1mSkipping file - too few data ../data/station_data_parquet/SFU8550-8-1.parquet\u001b[0m\n",
      "\u001b[32m2025-03-12 12:45:13.005\u001b[0m | \u001b[34m\u001b[1mDEBUG   \u001b[0m | \u001b[36mdata_exploration.weather_stations\u001b[0m:\u001b[36mread_parquet\u001b[0m:\u001b[36m16\u001b[0m - \u001b[34m\u001b[1mSkipping file - too few data ../data/station_data_parquet/SFU080-A6-1.parquet\u001b[0m\n",
      "\u001b[32m2025-03-12 12:45:13.032\u001b[0m | \u001b[34m\u001b[1mDEBUG   \u001b[0m | \u001b[36mdata_exploration.weather_stations\u001b[0m:\u001b[36mread_parquet\u001b[0m:\u001b[36m16\u001b[0m - \u001b[34m\u001b[1mSkipping file - too few data ../data/station_data_parquet/SFU7134-1-1.parquet\u001b[0m\n",
      "\u001b[32m2025-03-12 12:45:13.049\u001b[0m | \u001b[34m\u001b[1mDEBUG   \u001b[0m | \u001b[36mdata_exploration.weather_stations\u001b[0m:\u001b[36mread_parquet\u001b[0m:\u001b[36m16\u001b[0m - \u001b[34m\u001b[1mSkipping file - too few data ../data/station_data_parquet/SFU7337-5-1.parquet\u001b[0m\n",
      "\u001b[32m2025-03-12 12:45:13.113\u001b[0m | \u001b[34m\u001b[1mDEBUG   \u001b[0m | \u001b[36mdata_exploration.weather_stations\u001b[0m:\u001b[36mread_parquet\u001b[0m:\u001b[36m16\u001b[0m - \u001b[34m\u001b[1mSkipping file - too few data ../data/station_data_parquet/SFU1516-1-1.parquet\u001b[0m\n",
      "\u001b[32m2025-03-12 12:45:13.149\u001b[0m | \u001b[34m\u001b[1mDEBUG   \u001b[0m | \u001b[36mdata_exploration.weather_stations\u001b[0m:\u001b[36mread_parquet\u001b[0m:\u001b[36m16\u001b[0m - \u001b[34m\u001b[1mSkipping file - too few data ../data/station_data_parquet/SFM00068171.parquet\u001b[0m\n",
      "\u001b[32m2025-03-12 12:45:13.164\u001b[0m | \u001b[34m\u001b[1mDEBUG   \u001b[0m | \u001b[36mdata_exploration.weather_stations\u001b[0m:\u001b[36mread_parquet\u001b[0m:\u001b[36m16\u001b[0m - \u001b[34m\u001b[1mSkipping file - too few data ../data/station_data_parquet/SFI0000FAMK.parquet\u001b[0m\n",
      "\u001b[32m2025-03-12 12:45:13.219\u001b[0m | \u001b[1mINFO    \u001b[0m | \u001b[36mdata_exploration.weather_stations\u001b[0m:\u001b[36mread_parquet\u001b[0m:\u001b[36m13\u001b[0m - \u001b[1mReading in ../data/station_data_parquet/SFM00068558.parquet\u001b[0m\n",
      "\u001b[32m2025-03-12 12:45:13.446\u001b[0m | \u001b[34m\u001b[1mDEBUG   \u001b[0m | \u001b[36mdata_exploration.weather_stations\u001b[0m:\u001b[36mread_parquet\u001b[0m:\u001b[36m16\u001b[0m - \u001b[34m\u001b[1mSkipping file - too few data ../data/station_data_parquet/SFM00068265.parquet\u001b[0m\n",
      "\u001b[32m2025-03-12 12:45:13.492\u001b[0m | \u001b[1mINFO    \u001b[0m | \u001b[36mdata_exploration.weather_stations\u001b[0m:\u001b[36mread_parquet\u001b[0m:\u001b[36m13\u001b[0m - \u001b[1mReading in ../data/station_data_parquet/SFM00068833.parquet\u001b[0m\n",
      "\u001b[32m2025-03-12 12:45:13.654\u001b[0m | \u001b[34m\u001b[1mDEBUG   \u001b[0m | \u001b[36mdata_exploration.weather_stations\u001b[0m:\u001b[36mread_parquet\u001b[0m:\u001b[36m16\u001b[0m - \u001b[34m\u001b[1mSkipping file - too few data ../data/station_data_parquet/SFM00068823.parquet\u001b[0m\n",
      "\u001b[32m2025-03-12 12:45:13.670\u001b[0m | \u001b[34m\u001b[1mDEBUG   \u001b[0m | \u001b[36mdata_exploration.weather_stations\u001b[0m:\u001b[36mread_parquet\u001b[0m:\u001b[36m16\u001b[0m - \u001b[34m\u001b[1mSkipping file - too few data ../data/station_data_parquet/SFI0000FABN.parquet\u001b[0m\n",
      "\u001b[32m2025-03-12 12:45:13.682\u001b[0m | \u001b[34m\u001b[1mDEBUG   \u001b[0m | \u001b[36mdata_exploration.weather_stations\u001b[0m:\u001b[36mread_parquet\u001b[0m:\u001b[36m16\u001b[0m - \u001b[34m\u001b[1mSkipping file - too few data ../data/station_data_parquet/SFU009-A0-1.parquet\u001b[0m\n"
     ]
    }
   ],
   "source": [
    "folder = pathlib.Path('../data/station_data_parquet/')\n",
    "flist = list(folder.glob('*.parquet'))\n",
    "df = pd.concat([ws.read_parquet(f) for f in flist[10:50]], axis=0)"
   ]
  },
  {
   "cell_type": "markdown",
   "metadata": {},
   "source": [
    "Gridded temperature - doing naive interpolation not realistic\n",
    "Data has lots of missing spatial data \n",
    "How does data compare with ERA5 - can we \n",
    "\n",
    "1. Filter stations by those that have temperature\n",
    "2. Remove 0°C - likely bad measurment\n",
    "3. Remove outliers (IQR * 3) - seasonal option also possible\n"
   ]
  },
  {
   "cell_type": "code",
   "execution_count": 4,
   "metadata": {},
   "outputs": [],
   "source": [
    "grp = df.groupby('Station_name', as_index=False)\n",
    "i0 = [grp.groups[g][0] for g in grp.groups]\n",
    "n_obs = {g: len(grp.groups[g]) for g in grp.groups}\n",
    "\n",
    "df_locs = (\n",
    "    df.loc[i0]\n",
    "    .reset_index()\n",
    "    .set_index('Station_name')\n",
    "    .assign(n_obs=n_obs)\n",
    "    [['datetime', 'n_obs', 'Latitude', 'Longitude', 'geometry']])"
   ]
  },
  {
   "cell_type": "code",
   "execution_count": 36,
   "metadata": {},
   "outputs": [],
   "source": [
    "fig_refs = {}\n",
    "fig_ref_fmt = \"<img src='{fig_path}' width='800px'>\".replace('\\'', '\\\"')\n",
    "# fig_ref_fmt = \"<iframe src='{fig_path}'>\"\n",
    "for station in df_locs.index:\n",
    "    figname = viz.plot_station_timeseries(df, station, save_dir=\"../docs/figures/\")\n",
    "    fig_refs[station] = fig_ref_fmt.format(fig_path=figname).replace('../docs/', '')\n",
    "\n",
    "df_locs['fig_ref'] = pd.Series(fig_refs)"
   ]
  },
  {
   "cell_type": "code",
   "execution_count": 43,
   "metadata": {},
   "outputs": [],
   "source": [
    "import folium\n",
    "\n",
    "map = folium.Map([-29, 26], tiles=None, zoom_start=6)\n",
    "\n",
    "folium.TileLayer(tiles='openstreetmap', name='OpenStreetMap').add_to(map)\n",
    "folium.TileLayer(**viz.GOOGLE_SATELLITE, name='Google Satellite').add_to(map)\n",
    "folium.TileLayer(**viz.GOOGLE_TERRAIN, name='Google Terrain').add_to(map)\n",
    "\n",
    "tootlip_cols = ['name', 'n_obs', 'Latitude', 'Longitude', 'datetime']\n",
    "tootlip_classes = 'table table-striped table-hover table-condensed table-responsive'\n",
    "\n",
    "for name, row in df_locs.iterrows():\n",
    "    row['name'] = name\n",
    "    tooltip = row[tootlip_cols].to_frame().to_html(classes=tootlip_classes)\n",
    "\n",
    "    folium.CircleMarker(\n",
    "        [row['Latitude'], row['Longitude']],\n",
    "        radius=3,\n",
    "        color='red',\n",
    "        popup=folium.Popup(row['fig_ref']),\n",
    "        tooltip=tooltip,\n",
    "    ).add_to(map)\n",
    "\n",
    "# map.add_css_link('custom_css', '../notebooks/custom_folium.css')\n",
    "folium.LayerControl(collapsed=False).add_to(map)\n",
    "map.save('../docs/index.html')"
   ]
  },
  {
   "cell_type": "code",
   "execution_count": null,
   "metadata": {},
   "outputs": [],
   "source": []
  }
 ],
 "metadata": {
  "kernelspec": {
   "display_name": ".venv",
   "language": "python",
   "name": "python3"
  },
  "language_info": {
   "codemirror_mode": {
    "name": "ipython",
    "version": 3
   },
   "file_extension": ".py",
   "mimetype": "text/x-python",
   "name": "python",
   "nbconvert_exporter": "python",
   "pygments_lexer": "ipython3",
   "version": "3.11.11"
  }
 },
 "nbformat": 4,
 "nbformat_minor": 2
}
