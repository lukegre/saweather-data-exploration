{
 "cells": [
  {
   "cell_type": "code",
   "execution_count": 3,
   "metadata": {},
   "outputs": [
    {
     "name": "stdout",
     "output_type": "stream",
     "text": [
      "\u001b[2mResolved \u001b[1m151 packages\u001b[0m \u001b[2min 0.41ms\u001b[0m\u001b[0m\n",
      "\u001b[2mAudited \u001b[1m148 packages\u001b[0m \u001b[2min 0.10ms\u001b[0m\u001b[0m\n",
      "The autoreload extension is already loaded. To reload it, use:\n",
      "  %reload_ext autoreload\n"
     ]
    }
   ],
   "source": [
    "!uv sync\n",
    "%load_ext autoreload \n",
    "%autoreload 2  \n",
    "# imported functions are re-imported if they are changed"
   ]
  },
  {
   "cell_type": "code",
   "execution_count": 74,
   "metadata": {},
   "outputs": [],
   "source": [
    "from pyorbital.orbital import Orbital\n",
    "import datetime as dt\n",
    "from functools import lru_cache\n",
    "\n",
    "@lru_cache(maxsize=2)\n",
    "def get_satellite_orbital(satellite_name):\n",
    "    \n",
    "    possible_options = [\"TERRA\", \"AQUA\"]\n",
    "    if satellite_name not in possible_options:\n",
    "        raise ValueError(f\"Satellite name should be one of {possible_options}\")\n",
    "\n",
    "    return Orbital(satellite_name)"
   ]
  },
  {
   "cell_type": "code",
   "execution_count": null,
   "metadata": {},
   "outputs": [],
   "source": [
    "def get_modis_overpass_time(satellite_name:str, date:str, lat:float, lon:float, altitude_km=0.3, min_horizon_angle=35):\n",
    "    import pandas as pd \n",
    "    import numpy as np\n",
    "\n",
    "    satellite = get_satellite_orbital(satellite_name)\n",
    "\n",
    "    dtobj = dt.datetime.strptime(date, \"%Y-%m-%d\")\n",
    "\n",
    "    passes = satellite.get_next_passes(dtobj, 24, lon, lat, altitude_km, horizon=min_horizon_angle)\n",
    "    \n",
    "    # get overhead time - compared against https://oceandata.sci.gsfc.nasa.gov/overpass_pred/\n",
    "    overhead_time = pd.to_datetime([p[2] for p in passes])\n",
    "\n",
    "    df = pd.DataFrame(passes, columns=[\"rise_time\", \"fall_time\", \"max_elevation_time\"])\n",
    "\n",
    "    df['satellite'] = satellite_name\n",
    "    df['request_date'] = pd.to_datetime(dtobj)\n",
    "    df['lat'] = lat\n",
    "    df['lon'] = lon\n",
    "    df['altitude_km'] = altitude_km\n",
    "    df['horizon_angle_min'] = min_horizon_angle\n",
    "    df['night_pass'] = [~is_daytime(t, lat, lon) for t in overhead_time]\n",
    "    df['observer_angle'] = [np.around(satellite.get_observer_look(t, lon, lat, altitude_km)[1], 2) for t in overhead_time]\n",
    "\n",
    "    order = ['satellite', 'request_date', 'lat', 'lon', 'altitude', 'horizon_angle_min', 'max_elevation_time', 'observer_angle', 'night_pass']\n",
    "    df = df[order]\n",
    "    \n",
    "    return df\n",
    "\n",
    "\n",
    "def is_daytime(time, lat, lon):\n",
    "    \"\"\"Returns True if it's daytime at the given location, False otherwise.\"\"\"\n",
    "\n",
    "    from datetime import datetime, timezone\n",
    "    from pyorbital.astronomy import sun_zenith_angle\n",
    "\n",
    "    zenith_angle = sun_zenith_angle(time, float(lon), float(lat))\n",
    "    \n",
    "    return zenith_angle < 90  # Daytime if the sun is above the horizon"
   ]
  },
  {
   "cell_type": "code",
   "execution_count": 179,
   "metadata": {},
   "outputs": [
    {
     "data": {
      "text/html": [
       "<div>\n",
       "<style scoped>\n",
       "    .dataframe tbody tr th:only-of-type {\n",
       "        vertical-align: middle;\n",
       "    }\n",
       "\n",
       "    .dataframe tbody tr th {\n",
       "        vertical-align: top;\n",
       "    }\n",
       "\n",
       "    .dataframe thead th {\n",
       "        text-align: right;\n",
       "    }\n",
       "</style>\n",
       "<table border=\"1\" class=\"dataframe\">\n",
       "  <thead>\n",
       "    <tr style=\"text-align: right;\">\n",
       "      <th></th>\n",
       "      <th>satellite</th>\n",
       "      <th>request_date</th>\n",
       "      <th>lat</th>\n",
       "      <th>lon</th>\n",
       "      <th>altitude</th>\n",
       "      <th>horizon_angle_min</th>\n",
       "      <th>max_elevation_time</th>\n",
       "      <th>observer_angle</th>\n",
       "      <th>night_pass</th>\n",
       "    </tr>\n",
       "  </thead>\n",
       "  <tbody>\n",
       "    <tr>\n",
       "      <th>0</th>\n",
       "      <td>AQUA</td>\n",
       "      <td>2025-02-16</td>\n",
       "      <td>-34</td>\n",
       "      <td>20</td>\n",
       "      <td>0.3</td>\n",
       "      <td>30</td>\n",
       "      <td>2025-02-16 00:34:27.079765</td>\n",
       "      <td>63.44</td>\n",
       "      <td>True</td>\n",
       "    </tr>\n",
       "    <tr>\n",
       "      <th>1</th>\n",
       "      <td>AQUA</td>\n",
       "      <td>2025-02-16</td>\n",
       "      <td>-34</td>\n",
       "      <td>20</td>\n",
       "      <td>0.3</td>\n",
       "      <td>30</td>\n",
       "      <td>2025-02-16 14:13:17.667096</td>\n",
       "      <td>32.68</td>\n",
       "      <td>False</td>\n",
       "    </tr>\n",
       "  </tbody>\n",
       "</table>\n",
       "</div>"
      ],
      "text/plain": [
       "  satellite request_date  lat  lon  altitude  horizon_angle_min  \\\n",
       "0      AQUA   2025-02-16  -34   20       0.3                 30   \n",
       "1      AQUA   2025-02-16  -34   20       0.3                 30   \n",
       "\n",
       "          max_elevation_time  observer_angle  night_pass  \n",
       "0 2025-02-16 00:34:27.079765           63.44        True  \n",
       "1 2025-02-16 14:13:17.667096           32.68       False  "
      ]
     },
     "execution_count": 179,
     "metadata": {},
     "output_type": "execute_result"
    }
   ],
   "source": [
    "get_modis_overpass_time(\"AQUA\", \"2025-02-16\", lat=-34, lon=20, min_horizon_angle=30)"
   ]
  },
  {
   "cell_type": "code",
   "execution_count": null,
   "metadata": {},
   "outputs": [],
   "source": []
  }
 ],
 "metadata": {
  "kernelspec": {
   "display_name": ".venv",
   "language": "python",
   "name": "python3"
  },
  "language_info": {
   "codemirror_mode": {
    "name": "ipython",
    "version": 3
   },
   "file_extension": ".py",
   "mimetype": "text/x-python",
   "name": "python",
   "nbconvert_exporter": "python",
   "pygments_lexer": "ipython3",
   "version": "3.11.11"
  }
 },
 "nbformat": 4,
 "nbformat_minor": 2
}
